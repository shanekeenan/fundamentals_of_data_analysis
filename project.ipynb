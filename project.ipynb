{
 "cells": [
  {
   "cell_type": "markdown",
   "metadata": {},
   "source": [
    "# My project Notebook  \n",
    "***\n",
    "Module: Fundamentals of Data Analsis\n",
    "\n",
    "HDip in Data Analysis at ATU \n",
    "\n",
    "Author: Shane Keenan "
   ]
  },
  {
   "cell_type": "markdown",
   "metadata": {},
   "source": [
    "Project description \n",
    "\n",
    "• The project is to create a notebook investigating the variables and\n",
    "data points within the well-known iris flower data set associated\n",
    "with Ronald A Fisher.\n",
    "\n",
    "Iris – UCI Machine Learning Repository.\n",
    "Aug. 17, 2023. url: https://archive.ics.uci.edu/dataset/53/iris\n",
    "(visited on 08/17/2023).\n",
    "\n",
    "• In the notebook, you should discuss the classification of each\n",
    "variable within the data set according to common variable types\n",
    "and scales of measurement in mathematics, statistics, and Python.\n",
    "\n",
    "• Select, demonstrate, and explain the most appropriate summary\n",
    "statistics to describe each variable.\n",
    "\n",
    "• Select, demonstrate, and explain the most appropriate plot(s) for\n",
    "each variable.\n",
    "\n",
    "• The notebook should follow a cohesive narrative about the data\n",
    "set.\n"
   ]
  },
  {
   "cell_type": "markdown",
   "metadata": {},
   "source": []
  },
  {
   "cell_type": "markdown",
   "metadata": {},
   "source": []
  }
 ],
 "metadata": {
  "language_info": {
   "name": "python"
  },
  "orig_nbformat": 4
 },
 "nbformat": 4,
 "nbformat_minor": 2
}
