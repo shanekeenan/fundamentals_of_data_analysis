{
 "cells": [
  {
   "cell_type": "markdown",
   "metadata": {},
   "source": [
    "# Random Numbers in numpy\n",
    "\n",
    "***"
   ]
  },
  {
   "cell_type": "code",
   "execution_count": 1,
   "metadata": {},
   "outputs": [],
   "source": [
    "# Numerical arrays, random numbers.\n",
    "import numpy as np\n",
    "\n",
    "# Plots.\n",
    "import matplotlib.pyplot as plt"
   ]
  },
  {
   "cell_type": "markdown",
   "metadata": {},
   "source": [
    "## Python Standard Library\n",
    "\n",
    "https://docs.python.org/3/library/random.html\n",
    "\n",
    "***"
   ]
  },
  {
   "cell_type": "code",
   "execution_count": 2,
   "metadata": {},
   "outputs": [],
   "source": [
    "# The random module from the standard library.\n",
    "import random"
   ]
  },
  {
   "cell_type": "code",
   "execution_count": 3,
   "metadata": {},
   "outputs": [
    {
     "name": "stdout",
     "output_type": "stream",
     "text": [
      "\u001b[0;31mSignature:\u001b[0m \u001b[0mrandom\u001b[0m\u001b[0;34m.\u001b[0m\u001b[0mrandint\u001b[0m\u001b[0;34m(\u001b[0m\u001b[0ma\u001b[0m\u001b[0;34m,\u001b[0m \u001b[0mb\u001b[0m\u001b[0;34m)\u001b[0m\u001b[0;34m\u001b[0m\u001b[0;34m\u001b[0m\u001b[0m\n",
      "\u001b[0;31mDocstring:\u001b[0m\n",
      "Return random integer in range [a, b], including both end points.\n",
      "        \n",
      "\u001b[0;31mFile:\u001b[0m      ~/.miniconda/lib/python3.10/random.py\n",
      "\u001b[0;31mType:\u001b[0m      method"
     ]
    }
   ],
   "source": [
    "# Using autocomplete, we can a get a flavour of the module.\n",
    "# Putting a question mark in front of a function name prints\n",
    "# a little help message.\n",
    "?random.randint"
   ]
  },
  {
   "cell_type": "code",
   "execution_count": 4,
   "metadata": {},
   "outputs": [
    {
     "data": {
      "text/plain": [
       "18"
      ]
     },
     "execution_count": 4,
     "metadata": {},
     "output_type": "execute_result"
    }
   ],
   "source": [
    "# Based on the above, we can generate a random integer between\n",
    "# 10 and 20, inclusive.\n",
    "random.randint(10, 20)"
   ]
  },
  {
   "cell_type": "code",
   "execution_count": 5,
   "metadata": {},
   "outputs": [
    {
     "data": {
      "text/plain": [
       "[6, 2, 5, 10, 4, 6, 9, 4, 2, 3]"
      ]
     },
     "execution_count": 5,
     "metadata": {},
     "output_type": "execute_result"
    }
   ],
   "source": [
    "# Generate a list of 100 random integers between 1 and 10.\n",
    "L = [random.randint(1, 10) for i in range(100)]\n",
    "\n",
    "# Show the first ten items of L.\n",
    "L[:10]"
   ]
  },
  {
   "cell_type": "code",
   "execution_count": 6,
   "metadata": {},
   "outputs": [],
   "source": [
    "# List of car makes.\n",
    "makes = ['Toyota', 'Skoda', 'Ford', 'Renault']"
   ]
  },
  {
   "cell_type": "code",
   "execution_count": 7,
   "metadata": {},
   "outputs": [
    {
     "data": {
      "text/plain": [
       "'Ford'"
      ]
     },
     "execution_count": 7,
     "metadata": {},
     "output_type": "execute_result"
    }
   ],
   "source": [
    "# Select one at random.\n",
    "random.choice(makes)"
   ]
  },
  {
   "cell_type": "code",
   "execution_count": 8,
   "metadata": {},
   "outputs": [
    {
     "data": {
      "text/plain": [
       "['Renault',\n",
       " 'Toyota',\n",
       " 'Renault',\n",
       " 'Renault',\n",
       " 'Renault',\n",
       " 'Ford',\n",
       " 'Skoda',\n",
       " 'Skoda',\n",
       " 'Renault',\n",
       " 'Skoda']"
      ]
     },
     "execution_count": 8,
     "metadata": {},
     "output_type": "execute_result"
    }
   ],
   "source": [
    "# Select ten random makes (with replacement).\n",
    "random.choices(makes, k=10)"
   ]
  },
  {
   "cell_type": "code",
   "execution_count": 9,
   "metadata": {},
   "outputs": [],
   "source": [
    "# First eight letters.\n",
    "letters = ['A', 'B', 'C', 'D', 'E', 'F', 'G', 'H']"
   ]
  },
  {
   "cell_type": "code",
   "execution_count": 10,
   "metadata": {},
   "outputs": [],
   "source": [
    "# Shuffle them.\n",
    "random.shuffle(letters)"
   ]
  },
  {
   "cell_type": "code",
   "execution_count": 11,
   "metadata": {},
   "outputs": [
    {
     "data": {
      "text/plain": [
       "['A', 'C', 'G', 'D', 'E', 'H', 'F', 'B']"
      ]
     },
     "execution_count": 11,
     "metadata": {},
     "output_type": "execute_result"
    }
   ],
   "source": [
    "# Look at letters after shuffle.\n",
    "letters"
   ]
  },
  {
   "cell_type": "code",
   "execution_count": 12,
   "metadata": {},
   "outputs": [
    {
     "data": {
      "text/plain": [
       "['E', 'H', 'B', 'G', 'A']"
      ]
     },
     "execution_count": 12,
     "metadata": {},
     "output_type": "execute_result"
    }
   ],
   "source": [
    "# Random selection without replacement.\n",
    "random.sample(letters, k=5)"
   ]
  },
  {
   "cell_type": "code",
   "execution_count": 13,
   "metadata": {},
   "outputs": [
    {
     "data": {
      "text/plain": [
       "0.12427945825582398"
      ]
     },
     "execution_count": 13,
     "metadata": {},
     "output_type": "execute_result"
    }
   ],
   "source": [
    "# Random real (floating-point) number. [0.0, 1.0)\n",
    "random.random()"
   ]
  },
  {
   "cell_type": "code",
   "execution_count": 14,
   "metadata": {},
   "outputs": [
    {
     "data": {
      "text/plain": [
       "64.51536065084946"
      ]
     },
     "execution_count": 14,
     "metadata": {},
     "output_type": "execute_result"
    }
   ],
   "source": [
    "# Pick a random floating point number between 0.0 and 100.0. [0.0, 100.0]\n",
    "random.uniform(0.0, 100.0)"
   ]
  },
  {
   "cell_type": "markdown",
   "metadata": {},
   "source": [
    "## numpy\n",
    "\n",
    "[numpy API Reference: Random sampling](https://numpy.org/doc/stable/reference/random/index.html)\n",
    "\n",
    "https://numpy.org/doc/stable/reference/random/index.html\n",
    "\n",
    "***"
   ]
  },
  {
   "cell_type": "code",
   "execution_count": 15,
   "metadata": {},
   "outputs": [],
   "source": [
    "# Random Number Generator (RNG) for generating random numbers.\n",
    "rng = np.random.default_rng()"
   ]
  },
  {
   "cell_type": "code",
   "execution_count": 16,
   "metadata": {},
   "outputs": [
    {
     "data": {
      "text/plain": [
       "array([0.24875557, 0.99572213, 0.21789743, 0.33076399, 0.98586381,\n",
       "       0.32111414, 0.02787354, 0.98351918, 0.25187883, 0.00918596])"
      ]
     },
     "execution_count": 16,
     "metadata": {},
     "output_type": "execute_result"
    }
   ],
   "source": [
    "# Generate random floating point numbers in the interval 0.0 (included) to 1.0 (excluded).\n",
    "rng.random(10)"
   ]
  },
  {
   "cell_type": "markdown",
   "metadata": {},
   "source": [
    "Generate numbers on a standard Normal distribution.\n",
    "\n",
    "The mean is 0.0 and standard deviation is 1.0.\n",
    "\n",
    "The numbers generated should be, on average, centred on 0.0.\n",
    "\n",
    "More than 99% of the numbers generated should be in the interval (-3.0, 3.0)."
   ]
  },
  {
   "cell_type": "code",
   "execution_count": 17,
   "metadata": {},
   "outputs": [
    {
     "data": {
      "text/plain": [
       "array([ 0.78910503,  0.840462  ,  0.52469869,  0.04763533, -0.61950296,\n",
       "        0.33598763,  1.65287895,  1.85702104,  0.18776648, -0.48093423,\n",
       "        0.65608642,  0.45241118, -0.17467605,  0.48396877,  0.35213581,\n",
       "        0.57774417, -2.22991583, -0.54234674,  0.01407748,  1.14126438,\n",
       "        0.21848545, -1.38189258,  0.53327542, -0.73539353, -0.47960231,\n",
       "       -0.13857533, -0.27024459, -1.39221742,  1.30217144, -0.55906623,\n",
       "       -2.04434862, -0.32950033, -1.3026345 ,  2.07365014,  0.9226964 ,\n",
       "       -1.88897322, -0.54583979,  0.34214912,  0.57522906,  0.29518167,\n",
       "       -0.61307282,  0.55816926, -0.004359  ,  1.73830081,  1.75842432,\n",
       "       -1.62985612, -0.56963829, -0.85049073,  0.34822645, -1.10485127,\n",
       "        0.46458785,  1.03815103, -0.81547971,  0.14084709, -0.30179325,\n",
       "       -1.45791367,  0.24306502, -0.07967757, -0.89581488,  0.87226611,\n",
       "       -0.27551712, -1.37675186, -1.42675268, -0.53857814,  0.29590208,\n",
       "        3.2113285 , -2.7590776 ,  1.31292272, -0.18531183,  0.4905886 ,\n",
       "        0.76840685, -0.72654727, -1.01310565, -1.38433009, -0.2692296 ,\n",
       "        0.26767055,  1.32817326, -0.69718224,  0.43331351,  0.66129564,\n",
       "        0.60161147,  0.67113403,  0.02008367, -1.05054191,  0.2740221 ,\n",
       "        0.09404537, -0.68112027, -1.54891132,  0.46946414, -0.7816282 ,\n",
       "       -0.20197338,  2.4115938 , -1.02172487, -1.77975513, -0.82739414,\n",
       "       -0.12307984,  0.77148296,  0.29398131, -0.4664033 ,  0.4111934 ])"
      ]
     },
     "execution_count": 17,
     "metadata": {},
     "output_type": "execute_result"
    }
   ],
   "source": [
    "# Generate numbers on a standard Normal distribution.\n",
    "rng.standard_normal(100)"
   ]
  },
  {
   "cell_type": "code",
   "execution_count": 18,
   "metadata": {},
   "outputs": [
    {
     "data": {
      "text/plain": [
       "array([14, 14, 19, 12, 10, 14, 10, 14, 10, 13, 18, 18, 18, 19, 18])"
      ]
     },
     "execution_count": 18,
     "metadata": {},
     "output_type": "execute_result"
    }
   ],
   "source": [
    "# Generated 15 integers between 10 (included) and 20 (excluded).\n",
    "rng.integers(low=10, high=20, size=15) "
   ]
  },
  {
   "cell_type": "markdown",
   "metadata": {},
   "source": [
    "## Plotting Bar Charts\n",
    "\n",
    "***"
   ]
  },
  {
   "cell_type": "code",
   "execution_count": 19,
   "metadata": {},
   "outputs": [],
   "source": [
    "# The lowest integer allowed.\n",
    "low = 1\n",
    "\n",
    "# The highest integer allowed.\n",
    "high = 10\n",
    "\n",
    "# The number of integers to generate.\n",
    "size = 100000"
   ]
  },
  {
   "cell_type": "code",
   "execution_count": 20,
   "metadata": {},
   "outputs": [],
   "source": [
    "# Generate a list of random integers.\n",
    "rand_ints = rng.integers(low=low, high=high + 1, size=size)\n",
    "\n",
    "# Show.\n",
    "# rand_ints"
   ]
  },
  {
   "cell_type": "code",
   "execution_count": 21,
   "metadata": {},
   "outputs": [
    {
     "data": {
      "text/plain": [
       "array([ 1,  2,  3,  4,  5,  6,  7,  8,  9, 10])"
      ]
     },
     "execution_count": 21,
     "metadata": {},
     "output_type": "execute_result"
    }
   ],
   "source": [
    "# The unique elements of rand_ints.\n",
    "np.unique(rand_ints)"
   ]
  },
  {
   "cell_type": "code",
   "execution_count": 22,
   "metadata": {},
   "outputs": [
    {
     "data": {
      "text/plain": [
       "(array([ 1,  2,  3,  4,  5,  6,  7,  8,  9, 10]),\n",
       " array([ 9957, 10145, 10025, 10164,  9658,  9962, 10085,  9928, 10038,\n",
       "        10038]))"
      ]
     },
     "execution_count": 22,
     "metadata": {},
     "output_type": "execute_result"
    }
   ],
   "source": [
    "# The unique elements of rand_ints, with counts.\n",
    "x, counts = np.unique(rand_ints, return_counts=True)\n",
    "\n",
    "# Show the x and counts arrays.\n",
    "x, counts"
   ]
  },
  {
   "cell_type": "code",
   "execution_count": 23,
   "metadata": {},
   "outputs": [
    {
     "data": {
      "image/png": "[encoded data removed]",
      "text/plain": [
       "<Figure size 1200x300 with 1 Axes>"
      ]
     },
     "metadata": {},
     "output_type": "display_data"
    }
   ],
   "source": [
    "# Create an empty plot.\n",
    "fig, ax = plt.subplots(figsize=(12, 3))\n",
    "\n",
    "# Plot a bar chart.\n",
    "ax.bar(x, counts);"
   ]
  },
  {
   "cell_type": "markdown",
   "metadata": {},
   "source": [
    "## Plotting Histograms\n",
    "\n",
    "***"
   ]
  },
  {
   "cell_type": "code",
   "execution_count": 24,
   "metadata": {},
   "outputs": [],
   "source": [
    "# The number of floating points numbers to generate.\n",
    "size = 100000"
   ]
  },
  {
   "cell_type": "code",
   "execution_count": 25,
   "metadata": {},
   "outputs": [],
   "source": [
    "# Generate random floating point numbers in the interval 0.0 (included) to 1.0 (excluded).\n",
    "rand_floats = rng.random(size)\n",
    "\n",
    "# Show rand_floats.\n",
    "# rand_floats"
   ]
  },
  {
   "cell_type": "code",
   "execution_count": 26,
   "metadata": {},
   "outputs": [
    {
     "data": {
      "image/png": "[encoded data removed]",
      "text/plain": [
       "<Figure size 1200x300 with 1 Axes>"
      ]
     },
     "metadata": {},
     "output_type": "display_data"
    }
   ],
   "source": [
    "# Create an empty plot.\n",
    "fig, ax = plt.subplots(figsize=(12, 3))\n",
    "\n",
    "# Plot a histogram.\n",
    "ax.hist(rand_floats, bins=100);"
   ]
  },
  {
   "cell_type": "markdown",
   "metadata": {},
   "source": [
    "## Normal Looking Data\n",
    "\n",
    "***"
   ]
  },
  {
   "cell_type": "code",
   "execution_count": 27,
   "metadata": {},
   "outputs": [],
   "source": [
    "# Generate numbers on a standard Normal distribution.\n",
    "rand_normal = rng.standard_normal(100000)"
   ]
  },
  {
   "cell_type": "code",
   "execution_count": 28,
   "metadata": {},
   "outputs": [
    {
     "data": {
      "image/png": "[encoded data removed]",
      "text/plain": [
       "<Figure size 1200x300 with 1 Axes>"
      ]
     },
     "metadata": {},
     "output_type": "display_data"
    }
   ],
   "source": [
    "# Create an empty plot.\n",
    "fig, ax = plt.subplots(figsize=(12, 3))\n",
    "\n",
    "# Plot a histogram.\n",
    "ax.hist(rand_normal, bins=100, density=True);"
   ]
  },
  {
   "cell_type": "markdown",
   "metadata": {},
   "source": [
    "## Two Plots in One\n",
    "\n",
    "***"
   ]
  },
  {
   "cell_type": "markdown",
   "metadata": {},
   "source": [
    "**Normal PDF**\n",
    "\n",
    "$$ f(x) = \\frac{1}{\\sigma \\sqrt{2 \\pi}} e^{-\\frac{1}{2}\\big( \\frac{x - \\mu}{\\sigma} \\big)^2} $$\n",
    "\n"
   ]
  },
  {
   "cell_type": "markdown",
   "metadata": {},
   "source": [
    "**Standard Normal PDF**\n",
    "\n",
    "$$ f(x) = \\frac{1}{\\sqrt{2 \\pi}} e^{-\\frac{x^2}{2}} $$\n",
    "\n"
   ]
  },
  {
   "cell_type": "code",
   "execution_count": 29,
   "metadata": {},
   "outputs": [],
   "source": [
    "# x should be a numpy array.\n",
    "def f(x):\n",
    "  A = 1.0 / np.sqrt(2.0 * np.pi)\n",
    "  B = np.exp(-(x**2) / 2.0)\n",
    "  return A * B"
   ]
  },
  {
   "cell_type": "code",
   "execution_count": 30,
   "metadata": {},
   "outputs": [
    {
     "data": {
      "text/plain": [
       "0.3989422804014327"
      ]
     },
     "execution_count": 30,
     "metadata": {},
     "output_type": "execute_result"
    }
   ],
   "source": [
    "# Test value around 0.0.\n",
    "f(0.0)"
   ]
  },
  {
   "cell_type": "code",
   "execution_count": 31,
   "metadata": {},
   "outputs": [
    {
     "data": {
      "text/plain": [
       "0.0044318484119380075"
      ]
     },
     "execution_count": 31,
     "metadata": {},
     "output_type": "execute_result"
    }
   ],
   "source": [
    "# Test value around 3.0.\n",
    "f(3.0)"
   ]
  },
  {
   "cell_type": "code",
   "execution_count": 32,
   "metadata": {},
   "outputs": [
    {
     "data": {
      "image/png": "[encoded data removed]",
      "text/plain": [
       "<Figure size 1200x400 with 1 Axes>"
      ]
     },
     "metadata": {},
     "output_type": "display_data"
    }
   ],
   "source": [
    "# Range of x values for plotting.\n",
    "x = np.linspace(-5.0, 5.0, 1001)\n",
    "\n",
    "# Create empty plot.\n",
    "fig, ax = plt.subplots(figsize=(12, 4))\n",
    "\n",
    "# Plot f(x).\n",
    "ax.plot(x, f(x));"
   ]
  },
  {
   "cell_type": "code",
   "execution_count": 33,
   "metadata": {},
   "outputs": [
    {
     "data": {
      "image/png": "[encoded data removed]",
      "text/plain": [
       "<Figure size 1200x400 with 1 Axes>"
      ]
     },
     "metadata": {},
     "output_type": "display_data"
    }
   ],
   "source": [
    "# Range of x values for plotting.\n",
    "x = np.linspace(-5.0, 5.0, 1001)\n",
    "\n",
    "# Create empty plot.\n",
    "fig, ax = plt.subplots(figsize=(12, 4))\n",
    "\n",
    "# Plot histogram of randomly generated normal values from above.\n",
    "ax.hist(rand_normal, bins=100, density=True)\n",
    "\n",
    "# Plot f(x).\n",
    "ax.plot(x, f(x));"
   ]
  },
  {
   "cell_type": "markdown",
   "metadata": {},
   "source": [
    "***\n",
    "\n",
    "#### End"
   ]
  }
 ],
 "metadata": {
  "kernelspec": {
   "display_name": "base",
   "language": "python",
   "name": "python3"
  },
  "language_info": {
   "codemirror_mode": {
    "name": "ipython",
    "version": 3
   },
   "file_extension": ".py",
   "mimetype": "text/x-python",
   "name": "python",
   "nbconvert_exporter": "python",
   "pygments_lexer": "ipython3",
   "version": "3.10.12"
  },
  "orig_nbformat": 4
 },
 "nbformat": 4,
 "nbformat_minor": 2
}
